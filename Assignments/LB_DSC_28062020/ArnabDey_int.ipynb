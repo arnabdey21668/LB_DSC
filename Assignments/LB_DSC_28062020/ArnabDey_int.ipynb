{
 "cells": [
  {
   "cell_type": "code",
   "execution_count": null,
   "metadata": {
    "colab": {},
    "colab_type": "code",
    "id": "8A5Jw5NR1iEI"
   },
   "outputs": [],
   "source": [
    "#Declare an int value and store it in a variable. \n",
    "\n",
    "a=10\n",
    "\n",
    "#Check the type and print the id of the same.\n",
    "\n",
    "#Checking type and id of a\n",
    "print(\"Type of a: \",type(a))    #Output is int\n",
    "print(\"id of a: \",id(a))"
   ]
  },
  {
   "cell_type": "code",
   "execution_count": null,
   "metadata": {
    "colab": {},
    "colab_type": "code",
    "id": "0YU8LFTn1rAX"
   },
   "outputs": [],
   "source": [
    "#Take one int value between 0 - 256.\n",
    "#Assign it to two different variables.\n",
    "#Check the id of both the variables. It should come same. Check why?\n",
    "\n",
    "num1=10\n",
    "num2=10\n",
    "#Checking id of num1 and num2\n",
    "print(\"id of num1: \",id(num1))\n",
    "print(\"id of num2: \",id(num2))    #id is same for num1 and num2\n",
    "\n",
    "#It should be same since Python has a concept of object reusability wherein two or more objects created with same\n",
    "#integer value in range of 0-256 will point to same memory address in memory irrespective of the number of reference to it.\n",
    "\n",
    "#Take one int value either less than -5 or greater than 256.\n",
    "#Assign it to two different variables.\n",
    "#Check the id of both the variables. It should come different.Check why?\n",
    "\n",
    "num3=-6\n",
    "num4=-6\n",
    "#checking id of num3 and num4\n",
    "print(\"id of num3: \",id(num3))\n",
    "print(\"id of num4: \",id(num4))    #id is different for num1 and num2\n",
    "\n",
    "#It should be different since the object values created are beyond range of 0-256, hence it does not meet the Object\n",
    "#reusability requirements of Python\n"
   ]
  },
  {
   "cell_type": "code",
   "execution_count": null,
   "metadata": {
    "colab": {},
    "colab_type": "code",
    "id": "YzEIG0ZZ1tSK"
   },
   "outputs": [],
   "source": [
    "#Arithmatic Operations on integers\n",
    "#Take two different intger values.\n",
    "#Store them in two different variables.\n",
    "#Do below operations on them:-\n",
    "    #Find sum of both numbers\n",
    "    #Find differce between them\n",
    "    #Find the product of both numbers.\n",
    "    #Find value after dividing first num with second number\n",
    "    #Find the remainder after dividing first number with second number\n",
    "    #Find the quotient after dividing first number with second number\n",
    "    #Find the result of first num to the power of second number.\n",
    "    \n",
    "num1=20\n",
    "num2=10\n",
    "#Find sum of num1 and num2\n",
    "print(\"Sum of\",num1,\" and \",num2,\": \",num1+num2)                        #Output is 30\n",
    "#Difference of num1 from num2\n",
    "print(\"Difference of\",num1,\" from \",num2,\": \",num2-num1)                #Output is -10\n",
    "#Product of num1 and num2\n",
    "print(\"Product of\",num1,\" and \",num2,\": \",num1*num2)                    #Output is 200\n",
    "#Divide num1 with num2 to get value\n",
    "print(\"Value of Division of\",num1,\" with \",num2,\": \",num1/num2)         #Output is 2.0\n",
    "#Divide num1 with num2 to get remainder\n",
    "print(\"Remainder of Division of\",num1,\" with \",num2,\": \",num1%num2)     #Output is 0\n",
    "#Divide num1 with num2 to get quotient\n",
    "print(\"Quotient of Division of\",num1,\" with \",num2,\": \",num1//num2)     #Output is 2\n",
    "#Power of num1 to the power of second number\n",
    "print(num1,\" power of \",num2,\": \",num1**num2)                           #Output is 10240000000000"
   ]
  },
  {
   "cell_type": "code",
   "execution_count": null,
   "metadata": {
    "colab": {},
    "colab_type": "code",
    "id": "GGM7CdzA1wGn"
   },
   "outputs": [],
   "source": [
    "#Comparison Operators on integers\n",
    "#Take two different intger values.\n",
    "#Store them in two different variables.\n",
    "#Do below operations on them:-\n",
    "    #Compare se two numbers with below operator:-\n",
    "        #Greater than, '>'\n",
    "        #Smaller than, '<'\n",
    "        #Greater than or equal to, '>='\n",
    "        #Less than or equal to, '<='\n",
    "#Observe their output(return type should be boolean)\n",
    "\n",
    "num1=20\n",
    "num2=25\n",
    "#Check num1 > num2\n",
    "print(num1,\">\",num2,\": \",num1>num2)     #Output is False\n",
    "#Check num1 < num2\n",
    "print(num1,\"<\",num2,\": \",num1<num2)     #Output is True\n",
    "#Check num1 >= num2\n",
    "print(num1,\">=\",num2,\": \",num1>=num2)   #Output is False\n",
    "#Check num1 <= num2\n",
    "print(num1,\"<=\",num2,\": \",num1<=num2)   #Output is True"
   ]
  },
  {
   "cell_type": "code",
   "execution_count": null,
   "metadata": {
    "colab": {},
    "colab_type": "code",
    "id": "9x904sUE1y9t"
   },
   "outputs": [],
   "source": [
    "#Equality Operator\n",
    "#Take two different intger values.\n",
    "#Store them in two different variables.\n",
    "#Equuate them using equality operator (==, !=)\n",
    "#Observe the output(return type should be boolean)\n",
    "\n",
    "num1=10\n",
    "num2=11\n",
    "#Check num1 == num2\n",
    "print(num1,\"==\",num2,\": \",num1==num2)    #Output is False\n",
    "#Check num1 != num2\n",
    "print(num1,\"!=\",num2,\": \",num1!=num2)    #Output is True"
   ]
  },
  {
   "cell_type": "code",
   "execution_count": 1,
   "metadata": {
    "colab": {},
    "colab_type": "code",
    "id": "JmQFHUwc11S-"
   },
   "outputs": [
    {
     "name": "stdout",
     "output_type": "stream",
     "text": [
      "20\n",
      "0\n",
      "0\n",
      "0\n",
      "10\n",
      "20\n",
      "20\n",
      "0\n",
      "False\n",
      "True\n"
     ]
    }
   ],
   "source": [
    "#Logical operators\n",
    "#Observe the output of below code\n",
    "#Cross check the output manually\n",
    "\n",
    "print(10 and 20)       #----------------------------------------->Output is 20\n",
    "print(0 and 20)        #----------------------------------------->Output is 0\n",
    "print(20 and 0)        #----------------------------------------->Output is 0\n",
    "print(0 and 0)         #----------------------------------------->Output is 0\n",
    "\n",
    "print(10 or 20)        #----------------------------------------->Output is 10\n",
    "print(0 or 20)         #----------------------------------------->Output is 20\n",
    "print(20 or 0)         #----------------------------------------->Output is 20\n",
    "print(0 or 0)          #----------------------------------------->Output is 0\n",
    "\n",
    "print(not 10)          #----------------------------------------->Output is False\n",
    "print(not 0)           #----------------------------------------->Output is True"
   ]
  },
  {
   "cell_type": "code",
   "execution_count": null,
   "metadata": {
    "colab": {},
    "colab_type": "code",
    "id": "-0tvoulX14Hi"
   },
   "outputs": [],
   "source": [
    "#Bitwise Operators\n",
    "#Do below operations on the values provided below:-\n",
    "    #Bitwise and(&) -----------------------------------------> 10, 20   -------> Output is 0\n",
    "    # 10 -> 0b01010\n",
    "    # 20 -> 0b10100\n",
    "    # ----------------\n",
    "    # 10&20 -> 0b00000 -> 0(in decimal)\n",
    "print(\"10&20: \",10&20)\n",
    "    \n",
    "    #Bitwise or(|)  -----------------------------------------> 10, 20   -------> Output is 30\n",
    "    # 10 -> 0b01010\n",
    "    # 20 -> 0b10100\n",
    "    # ----------------\n",
    "    # 10|20 -> 0b11110 -> 30(in decimal)\n",
    "print(\"10|20: \",10|20)\n",
    "    \n",
    "    #Bitwise(^)     -----------------------------------------> 10, 20   -------> Output is 30\n",
    "    # 10 -> 0b01010\n",
    "    # 20 -> 0b10100\n",
    "    # ----------------\n",
    "    # 10^20 -> 0b11110 -> 30(in decimal)\n",
    "print(\"10^20: \",10^20)\n",
    "    \n",
    "    #Bitwise negation(~) ------------------------------------> 10       -------> Output is -11\n",
    "    # 10 ->     0b1010\n",
    "    #  1 ->     0b0001\n",
    "    # ----------------\n",
    "    # -(10+1)-> 0b1011 -> -11(in decimal)\n",
    "print(\"~10: \",~10)\n",
    "    \n",
    "    #Bitwise left shift  ------------------------------------> 10,2     -------> Output is 40\n",
    "    # 10 ->      0b1010\n",
    "    # ----------------\n",
    "    # 10 << 2 -> 0b101000 -> 40(in decimal)\n",
    "print(\"10 << 2: \",10 << 2)\n",
    "    \n",
    "    #Bitwise right shift ------------------------------------> 10,2     -------> Output is 2\n",
    "    # 10 ->      0b1010\n",
    "    # ----------------\n",
    "    # 10 >> 2 -> 0b0010 -> 2(in decimal)\n",
    "print(\"10 >> 2: \",10 >> 2)\n",
    "    \n",
    "#Cross check the output manually"
   ]
  },
  {
   "cell_type": "code",
   "execution_count": null,
   "metadata": {
    "colab": {},
    "colab_type": "code",
    "id": "YCcx-Qx016hg"
   },
   "outputs": [],
   "source": [
    "#What is the output of expression inside print statement. Cross check before running the program.\n",
    "a = 10\n",
    "b = 10\n",
    "print(a is b)          #True or False? -> Output is True\n",
    "print(a is not b)      #True or False? -> Output is False\n",
    "\n",
    "a = 1000\n",
    "b = 1000\n",
    "print(a is b)          #True or False? -> Output is False\n",
    "print(a is not b)      #True or False? -> Output is True"
   ]
  },
  {
   "cell_type": "code",
   "execution_count": null,
   "metadata": {
    "colab": {},
    "colab_type": "code",
    "id": "Un2To3XN1_Il"
   },
   "outputs": [],
   "source": [
    "#What is the output of expression inside print statement. Cross check before running the program.\n",
    "# print(10+(10*32)//2**5&20+(~(-10))<<2)\n",
    "# print(10+320//2**5&20+9<<2)\n",
    "# print(10+320//32&20+9<<2)\n",
    "# print(10+10&20+9<<2)\n",
    "# print(20&29<<2)\n",
    "# print(20&118)\n",
    "# Output is 20"
   ]
  },
  {
   "cell_type": "code",
   "execution_count": null,
   "metadata": {
    "colab": {},
    "colab_type": "code",
    "id": "kGRb5RMd1_1I"
   },
   "outputs": [],
   "source": [
    "#Membership operation\n",
    "#in, not in are two membership operators and it returns boolean value\n",
    "\n",
    "print('2' in 'Python2.7.8')                  #Output is True\n",
    "print(10 in [10,10.20,10+20j,'Python'])      #Output is True\n",
    "print(10 in (10,10.20,10+20j,'Python'))      #Output is True\n",
    "print(2 in {1,2,3})                          #Output is True\n",
    "print(3 in {1:100, 2:200, 3:300})            #Output is True\n",
    "print(10 in range(20))                       #Output is True"
   ]
  },
  {
   "cell_type": "code",
   "execution_count": null,
   "metadata": {
    "colab": {},
    "colab_type": "code",
    "id": "Es7iSvL92B9W"
   },
   "outputs": [],
   "source": [
    "#An integer can be represented in binary, octal or hexadecimal form.\n",
    "#Declare one binary, one octal and one hexadecimal value and store them in three different variables.\n",
    "bin_num=0b1101\n",
    "octal_num=0o127\n",
    "hex_num=0x1a2f\n",
    "#Convert 9876 to its binary, octal and hexadecimal equivalent and print their corresponding value.\n",
    "num1=9876\n",
    "# converting to binary\n",
    "print(\"Binary equivalent of \",num1,\" : \",bin(num1))\n",
    "# converting to octal\n",
    "print(\"Octal equivalent of \",num1,\" : \",oct(num1))\n",
    "# converting to hexadecimal\n",
    "print(\"Hexadecimal equivalent of \",num1,\" : \",hex(num1))"
   ]
  },
  {
   "cell_type": "code",
   "execution_count": null,
   "metadata": {
    "colab": {},
    "colab_type": "code",
    "id": "Hm0r03lH2E0i"
   },
   "outputs": [],
   "source": [
    "#What will be the outut of following:-\n",
    "a = 0b1010000\n",
    "print(a)              #Output is 80\n",
    "# print(\"value of a: \",1*(2**6)+0*(2**5)+1*(2**4)+0*(2**3)+0*(2**2)+0*(2**1)+0*(2**0))\n",
    "\n",
    "b = 0o7436\n",
    "print(b)              #Output is 3870\n",
    "# print(\"value of b: \",7*(8**3)+4*(8**2)+3*(8**1)+6*(8**0))\n",
    "\n",
    "c = 0xfade\n",
    "print(c)              #Output is 64222\n",
    "# print(\"value of c: \",15*(16**3)+10*(16**2)+13*(16**1)+14*(16**0))\n",
    "\n",
    "print(bin(80))        #Output is 0b1010000\n",
    "\n",
    "print(oct(3870))      #Output is 0o7436\n",
    "\n",
    "print(hex(64222))     #Output is 0xfade\n",
    "\n",
    "print(bin(0b1010000)) #Output is 0b1010000\n",
    "\n",
    "print(bin(0xfade))    #Output is 0b1111101011011110\n",
    "\n",
    "print(oct(0xfade))    #Output is 0o175336\n",
    "\n",
    "print(oct(0o7436))    #Output is 0o7436\n",
    "\n",
    "print(hex(0b1010000)) #Output is 0x50\n",
    "\n",
    "print(hex(0xfade))    #Output is 0xfade"
   ]
  }
 ],
 "metadata": {
  "colab": {
   "name": "int_assignment.ipynb",
   "provenance": []
  },
  "kernelspec": {
   "display_name": "Python 3",
   "language": "python",
   "name": "python3"
  },
  "language_info": {
   "codemirror_mode": {
    "name": "ipython",
    "version": 3
   },
   "file_extension": ".py",
   "mimetype": "text/x-python",
   "name": "python",
   "nbconvert_exporter": "python",
   "pygments_lexer": "ipython3",
   "version": "3.7.6"
  }
 },
 "nbformat": 4,
 "nbformat_minor": 1
}
