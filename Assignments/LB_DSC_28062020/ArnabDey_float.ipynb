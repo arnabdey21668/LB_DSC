{
 "cells": [
  {
   "cell_type": "code",
   "execution_count": null,
   "metadata": {
    "colab": {},
    "colab_type": "code",
    "id": "dlrMB-Qy2taV"
   },
   "outputs": [],
   "source": [
    "#Declare a float value and store it in a variable. \n",
    "\n",
    "num1=10.2\n",
    "\n",
    "\n",
    "\n",
    "#Check the type and print the id of the same.\n",
    "\n",
    "print(\"type of \",num1,\":\",type(num1))    #Output is Float\n",
    "print(\"id of \",num1,\":\",id(num1))\n"
   ]
  },
  {
   "cell_type": "code",
   "execution_count": null,
   "metadata": {
    "colab": {},
    "colab_type": "code",
    "id": "IL4fVDHg2wbI"
   },
   "outputs": [],
   "source": [
    "#Arithmatic Operations on float\n",
    "#Take two different float values.\n",
    "#Store them in two different variables.\n",
    "num1=20.0\n",
    "num2=9.2\n",
    "#Do below operations on them:-\n",
    "    #Find sum of both numbers\n",
    "print(\"Sum: \",num1+num2)                #Output is 29.2\n",
    "    #Find differce between them\n",
    "print(\"Difference: \",num1-num2)         #Output is 10.8\n",
    "    #Find the product of both numbers.\n",
    "print(\"Product: \",num1*num2)            #Output is 184.0\n",
    "    #Find value after dividing first num with second number\n",
    "print(\"Division Value: \",num1/num2)     #Output is 2.173913043478261\n",
    "    #Find the remainder after dividing first number with second number\n",
    "print(\"Division Remainder: \",num1%num2) #Output is 1.6000000000000014\n",
    "    #Find the quotient after dividing first number with second number\n",
    "print(\"Division Quotient: \",num1/num2) #Output is 2.173913043478261\n",
    "    #Find the result of first num to the power of second number."
   ]
  },
  {
   "cell_type": "code",
   "execution_count": null,
   "metadata": {
    "colab": {},
    "colab_type": "code",
    "id": "atCFaH6c2492"
   },
   "outputs": [],
   "source": [
    "#Comparison Operators on float\n",
    "#Take two different float values.\n",
    "#Store them in two different variables.\n",
    "\n",
    "num1=10.0\n",
    "num2=20.0\n",
    "#Do below operations on them:-\n",
    "    #Compare these two numbers with below operator:-\n",
    "        #Greater than, '>'\n",
    "print(\"num1>num2: \",num1>num2)            #Output is False\n",
    "        #Smaller than, '<'\n",
    "print(\"num1<num2: \",num1<num2)            #Output is True\n",
    "        #Greater than or equal to, '>='\n",
    "print(\"num1>=num2: \",num1>=num2)          #Output is False\n",
    "        #Less than or equal to, '<='\n",
    "print(\"num1<=num2: \",num1<=num2)          #Output is True\n",
    "#Observe their output(return type should be boolean)\n",
    "\n",
    "\n",
    "\n",
    "\n",
    "\n",
    "\n",
    "\n",
    "\n"
   ]
  },
  {
   "cell_type": "code",
   "execution_count": null,
   "metadata": {
    "colab": {},
    "colab_type": "code",
    "id": "agi3U3863A5i"
   },
   "outputs": [],
   "source": [
    "#Equality Operator\n",
    "#Take two different float values.\n",
    "#Store them in two different variables.\n",
    "\n",
    "num1=10.0\n",
    "num2=20.0\n",
    "#Equuate them using equality operator (==, !=)\n",
    "print(\"num1==num2: \",num1==num2)            #Output is False\n",
    "#Observe the output(return type should be boolean)\n",
    "print(\"num1!=num2: \",num1!=num2)            #Output is True\n",
    "\n",
    "\n",
    "\n",
    "\n",
    "\n"
   ]
  },
  {
   "cell_type": "code",
   "execution_count": null,
   "metadata": {
    "colab": {},
    "colab_type": "code",
    "id": "3HLlgaEt3EnJ"
   },
   "outputs": [],
   "source": [
    "#Logical operators\n",
    "#Observe the output of below code\n",
    "#Cross check the output manually\n",
    "\n",
    "print(10.20 and 20.30)       #both are true and second value taken >Output is 20.3\n",
    "print(0.0 and 20.30)         #First is false so first value taken->Output is 0.0\n",
    "print(20.30 and 0.0)         #Goes to till second and second value is false so second is taken>Output is 0.0\n",
    "print(0.0 and 0.0)           #First is false so first value is taken->Output is 0.0\n",
    "\n",
    "print(10.20 or 20.30)        #First is True so first value is taken>Output is 10.2\n",
    "print(0.0 or 20.30)          #Goes to till second and second is true second value is taken->Output is 20.3\n",
    "print(20.30 or 0.0)          #First is True so first value is taken->Output is 20.3\n",
    "print(0.0 or 0.0)            #Goes to till second and secod is also false and second value is taken>Output is 0.0\n",
    "\n",
    "print(not 10.20)             #-Not of true is false->Output is False\n",
    "print(not 0.0)               #Not of false is True>Output is True"
   ]
  },
  {
   "cell_type": "code",
   "execution_count": null,
   "metadata": {
    "colab": {},
    "colab_type": "code",
    "id": "7YdyRNtk3UZd"
   },
   "outputs": [],
   "source": [
    "#What is the output of expression inside print statement. Cross check before running the program.\n",
    "a=10.20\n",
    "b=10.20\n",
    "c=b\n",
    "print(\"id of a: \",id(a))     #id of a: 1861227004464\n",
    "print(\"id of b: \",id(b))     #id of b: 1861227004752\n",
    "print(\"id of c: \",id(c))     #id of c: 1861227004752\n",
    "print(a is b)          #True or False?         Output is False since id of a and b are not same\n",
    "print(a is not b)      #True or False?         Output is True since id of a and b are different\n",
    "\n",
    "\n",
    "# Why the Id of float values are different when the same value is assigned to two different variables\n",
    "# ex: a = 10.5 b=10.5. but id will be same if I assign the variable having float i.e. a=c then both a anc c's\n",
    "# Id are same \n",
    "# Object reusability concept is not applicable on float values."
   ]
  },
  {
   "cell_type": "code",
   "execution_count": null,
   "metadata": {
    "colab": {},
    "colab_type": "code",
    "id": "iTvnIMLd3VLW"
   },
   "outputs": [],
   "source": [
    "#Bitwise operation is not applicable between instances of float.\n",
    "## Why the Id of float values are different when the same value is assigned to two different variables\n",
    "## ex: a = 10.5 b=10.5. but id will be same if I assign the variable having float i.e. a=c then both a anc c's\n",
    "## Id are same\n",
    "#Object reusability concept is not applicable on float values."
   ]
  },
  {
   "cell_type": "code",
   "execution_count": null,
   "metadata": {
    "colab": {},
    "colab_type": "code",
    "id": "29AVJHpx3YUo"
   },
   "outputs": [],
   "source": [
    "#Membership operation\n",
    "#in, not in are two membership operators and it returns boolean value\n",
    "\n",
    "print('2.7' in 'Python2.7.8')              #Output is True\n",
    "print(10.20 in [10,10.20,10+20j,'Python']) #Output is True\n",
    "print(10.20 in (10,10.20,10+20j,'Python')) #Output is True\n",
    "print(20.30 in {1,20.30,30+40j})           #Output is True\n",
    "print(2.3 in {1:100, 2.3:200, 30+40j:300}) #Output is True\n",
    "print(10 in range(20))                     #Output is True"
   ]
  }
 ],
 "metadata": {
  "colab": {
   "name": "float_assignment.ipynb",
   "provenance": []
  },
  "kernelspec": {
   "display_name": "Python 3",
   "language": "python",
   "name": "python3"
  },
  "language_info": {
   "codemirror_mode": {
    "name": "ipython",
    "version": 3
   },
   "file_extension": ".py",
   "mimetype": "text/x-python",
   "name": "python",
   "nbconvert_exporter": "python",
   "pygments_lexer": "ipython3",
   "version": "3.7.6"
  }
 },
 "nbformat": 4,
 "nbformat_minor": 1
}
