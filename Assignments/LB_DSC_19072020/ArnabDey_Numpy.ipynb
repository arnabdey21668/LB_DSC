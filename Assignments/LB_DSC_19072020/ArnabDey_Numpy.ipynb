{
 "cells": [
  {
   "cell_type": "code",
   "execution_count": 2,
   "metadata": {},
   "outputs": [],
   "source": [
    "import numpy as np"
   ]
  },
  {
   "cell_type": "code",
   "execution_count": 136,
   "metadata": {},
   "outputs": [
    {
     "name": "stdout",
     "output_type": "stream",
     "text": [
      "a: [0. 0. 0. 0. 0.]\n",
      "dtype: float64\n",
      "itemsize: 8\n",
      "shape: (5,)\n"
     ]
    }
   ],
   "source": [
    "# create a numpy array of 5 zeros\n",
    "\n",
    "a = np.zeros(5)\n",
    "print('a:',a)\n",
    "print(f'dtype: {a.dtype}')\n",
    "print(f'itemsize: {a.itemsize}')\n",
    "print(f'shape: {a.shape}')"
   ]
  },
  {
   "cell_type": "code",
   "execution_count": 134,
   "metadata": {},
   "outputs": [
    {
     "name": "stdout",
     "output_type": "stream",
     "text": [
      "a:\n",
      "[[1 1 1 1]\n",
      " [1 1 1 1]\n",
      " [1 1 1 1]\n",
      " [1 1 1 1]\n",
      " [1 1 1 1]]\n"
     ]
    }
   ],
   "source": [
    "# create a numpy array of ones of shape (5,4)\n",
    "\n",
    "a = np.ones((5,4), dtype='int32')\n",
    "print('a:',a,sep='\\n')"
   ]
  },
  {
   "cell_type": "code",
   "execution_count": 141,
   "metadata": {},
   "outputs": [
    {
     "name": "stdout",
     "output_type": "stream",
     "text": [
      "a:\n",
      "[[ 1  2  3  4  5]\n",
      " [ 6  7  8  9 10]\n",
      " [11 12 13 14 15]\n",
      " [16 17 18 19 20]]\n",
      "\n",
      "Multiplying all elements by 10:\n",
      "[[ 10  20  30  40  50]\n",
      " [ 60  70  80  90 100]\n",
      " [110 120 130 140 150]\n",
      " [160 170 180 190 200]]\n",
      "\n",
      "Odd elements: [ 1  3  5  7  9 11 13 15 17 19]\n",
      "\n",
      "a after replacing all even elements by their negative:\n",
      "[[  1  -2   3  -4   5]\n",
      " [ -6   7  -8   9 -10]\n",
      " [ 11 -12  13 -14  15]\n",
      " [-16  17 -18  19 -20]]\n"
     ]
    }
   ],
   "source": [
    "# create a matrix of shape 4,5 with numbers from 1-20\n",
    "\n",
    "a = np.arange(1,21).reshape(4,5)\n",
    "print('a:',a,sep='\\n')\n",
    "\n",
    "# multiply all elements of above array by 10\n",
    "print()\n",
    "print('Multiplying all elements by 10:',a*10,sep='\\n')\n",
    "\n",
    "# print odd elements from array\n",
    "print()\n",
    "print('Odd elements:',a[a % 2 != 0])\n",
    "\n",
    "# replace all even elements by their negative\n",
    "print()\n",
    "a[a%2==0] *= -1\n",
    "print('a after replacing all even elements by their negative:',a,sep='\\n')"
   ]
  },
  {
   "cell_type": "code",
   "execution_count": 85,
   "metadata": {},
   "outputs": [
    {
     "name": "stdout",
     "output_type": "stream",
     "text": [
      "M1:\n",
      "[[ 1  2  3  4]\n",
      " [ 5  6  7  8]\n",
      " [ 9 10 11 12]\n",
      " [13 14 15 16]]\n"
     ]
    }
   ],
   "source": [
    "# create a linearly spaced matrix M1 of size 4x4 having values in range 1-16\n",
    "\n",
    "M1 = np.arange(1,17).reshape((4,4))\n",
    "print('M1:',M1,sep='\\n')"
   ]
  },
  {
   "cell_type": "code",
   "execution_count": 86,
   "metadata": {},
   "outputs": [
    {
     "name": "stdout",
     "output_type": "stream",
     "text": [
      "M2(Transpose of M1):\n",
      "[[ 1  5  9 13]\n",
      " [ 2  6 10 14]\n",
      " [ 3  7 11 15]\n",
      " [ 4  8 12 16]]\n"
     ]
    }
   ],
   "source": [
    "# create a transpose of above matrix call it M2\n",
    "\n",
    "M2 = M1.T\n",
    "print('M2(Transpose of M1):',M2,sep='\\n')"
   ]
  },
  {
   "cell_type": "code",
   "execution_count": 87,
   "metadata": {},
   "outputs": [
    {
     "name": "stdout",
     "output_type": "stream",
     "text": [
      "M3(M1+M2):\n",
      "[[ 2  7 12 17]\n",
      " [ 7 12 17 22]\n",
      " [12 17 22 27]\n",
      " [17 22 27 32]]\n"
     ]
    }
   ],
   "source": [
    "# find sum of above matrix M3 = (M1 + M2)\n",
    "\n",
    "M3 = M1 + M2     # M3 = np.add(M1,M2) is an alternative\n",
    "print('M3(M1+M2):',M3,sep='\\n')"
   ]
  },
  {
   "cell_type": "code",
   "execution_count": 88,
   "metadata": {},
   "outputs": [
    {
     "name": "stdout",
     "output_type": "stream",
     "text": [
      "MT1(Transpose of M3):\n",
      "[[ 2  7 12 17]\n",
      " [ 7 12 17 22]\n",
      " [12 17 22 27]\n",
      " [17 22 27 32]]\n",
      "If M3 == MT1: True\n"
     ]
    }
   ],
   "source": [
    "# Find Transpose of M3, Call it MT1. Check if M3 == MT1\n",
    "\n",
    "MT1 = M3.T\n",
    "print('MT1(Transpose of M3):',MT1,sep='\\n')\n",
    "print('If M3 == MT1:',np.array_equal(M3,MT1))"
   ]
  },
  {
   "cell_type": "code",
   "execution_count": 89,
   "metadata": {},
   "outputs": [
    {
     "name": "stdout",
     "output_type": "stream",
     "text": [
      "M4(M1-M2):\n",
      "[[ 0 -3 -6 -9]\n",
      " [ 3  0 -3 -6]\n",
      " [ 6  3  0 -3]\n",
      " [ 9  6  3  0]]\n"
     ]
    }
   ],
   "source": [
    "# find diffrence of M4 = (M1 - M2)\n",
    "\n",
    "M4 = M1 - M2\n",
    "print('M4(M1-M2):',M4,sep='\\n')"
   ]
  },
  {
   "cell_type": "code",
   "execution_count": 90,
   "metadata": {},
   "outputs": [
    {
     "name": "stdout",
     "output_type": "stream",
     "text": [
      "MT2(Transpose of M4):\n",
      "[[ 0  3  6  9]\n",
      " [-3  0  3  6]\n",
      " [-6 -3  0  3]\n",
      " [-9 -6 -3  0]]\n",
      "If M4 == MT2: False\n",
      "If M4 == -MT2: True\n"
     ]
    }
   ],
   "source": [
    "# Find Transpose of M4, Call it MT2. Check if M4 == MT2. Also check if M4 == -MT2\n",
    "\n",
    "MT2 = M4.T\n",
    "print('MT2(Transpose of M4):',MT2,sep='\\n')\n",
    "print('If M4 == MT2:',np.array_equal(M4,MT2))\n",
    "print('If M4 == -MT2:',np.array_equal(M4,-MT2))"
   ]
  },
  {
   "cell_type": "code",
   "execution_count": 91,
   "metadata": {},
   "outputs": [
    {
     "name": "stdout",
     "output_type": "stream",
     "text": [
      "R1:\n",
      "[[32 22 21 18]\n",
      " [11 31 22 19]\n",
      " [21 11 20 32]]\n"
     ]
    }
   ],
   "source": [
    "# create a matrix (3x4) R1 of random numbers between 10-40\n",
    "\n",
    "R1 = np.random.randint(10,40,(3,4))\n",
    "print('R1:',R1,sep='\\n')"
   ]
  },
  {
   "cell_type": "code",
   "execution_count": 92,
   "metadata": {},
   "outputs": [
    {
     "name": "stdout",
     "output_type": "stream",
     "text": [
      "Min value column wise: [32 31 22 32]\n",
      "Max value column wise: [11 11 20 18]\n"
     ]
    }
   ],
   "source": [
    "# find min and max column wise\n",
    "\n",
    "print('Min value column wise:',np.amax(R1, axis=0))\n",
    "print('Max value column wise:',np.amin(R1, axis=0))"
   ]
  },
  {
   "cell_type": "code",
   "execution_count": 93,
   "metadata": {},
   "outputs": [
    {
     "name": "stdout",
     "output_type": "stream",
     "text": [
      "R1 after replacing last column with sum of all columns:\n",
      "[[32 22 21 93]\n",
      " [11 31 22 83]\n",
      " [21 11 20 84]]\n"
     ]
    }
   ],
   "source": [
    "# replace the last column with sum of all the columns\n",
    "\n",
    "R1[:,3] = np.sum(R1, axis=1)\n",
    "print('R1 after replacing last column with sum of all columns:',R1,sep='\\n')"
   ]
  },
  {
   "cell_type": "code",
   "execution_count": 110,
   "metadata": {},
   "outputs": [
    {
     "name": "stdout",
     "output_type": "stream",
     "text": [
      "R1:\n",
      "[[18 18 35 31]\n",
      " [15 22 37 28]\n",
      " [23 11 35 27]]\n"
     ]
    }
   ],
   "source": [
    "# create a matrix (3x4) R1 of random numbers between 10-40\n",
    "\n",
    "R1 = np.random.randint(10,40,(3,4))\n",
    "print('R1:',R1,sep='\\n')"
   ]
  },
  {
   "cell_type": "code",
   "execution_count": 111,
   "metadata": {},
   "outputs": [
    {
     "name": "stdout",
     "output_type": "stream",
     "text": [
      "R1 after replacing all even elements with nan:\n",
      "[[nan nan 35. 31.]\n",
      " [15. nan 37. nan]\n",
      " [23. 11. 35. 27.]]\n"
     ]
    }
   ],
   "source": [
    "# replace all even elements with nan in R1\n",
    "\n",
    "R1 = R1.astype('float')\n",
    "R1[R1 % 2==0] = np.nan\n",
    "print('R1 after replacing all even elements with nan:',R1,sep='\\n')"
   ]
  },
  {
   "cell_type": "code",
   "execution_count": 123,
   "metadata": {},
   "outputs": [
    {
     "name": "stdout",
     "output_type": "stream",
     "text": [
      "Count of nan in R1: 4\n"
     ]
    }
   ],
   "source": [
    "# count number of nan in R1\n",
    "\n",
    "print('Count of nan in R1:',np.count_nonzero(np.isnan(R1)))"
   ]
  },
  {
   "cell_type": "code",
   "execution_count": 129,
   "metadata": {},
   "outputs": [
    {
     "name": "stdout",
     "output_type": "stream",
     "text": [
      "a1:\n",
      "[[1 2 3]\n",
      " [4 5 6]\n",
      " [7 8 9]]\n",
      "a2:\n",
      "[[11 12 13]\n",
      " [14 15 16]\n",
      " [17 18 19]]\n",
      "a3 with no axis argument:\n",
      "[ 1  2  3  4  5  6  7  8  9 11 12 13 14 15 16 17 18 19]\n",
      "a3 with axis=0:\n",
      "[[ 1  2  3]\n",
      " [ 4  5  6]\n",
      " [ 7  8  9]\n",
      " [11 12 13]\n",
      " [14 15 16]\n",
      " [17 18 19]]\n",
      "a3 with axis=1:\n",
      "[[ 1  2  3 11 12 13]\n",
      " [ 4  5  6 14 15 16]\n",
      " [ 7  8  9 17 18 19]]\n"
     ]
    }
   ],
   "source": [
    "# check output of this code\n",
    "\n",
    "a1 = np.arange(1,10).reshape(3,3)\n",
    "print('a1:',a1,sep='\\n')\n",
    "\n",
    "a2 = np.arange(11,20).reshape(3,3)\n",
    "print('a2:',a2,sep='\\n')\n",
    "\n",
    "a3 = np.append(a1,a2)\n",
    "print('a3 with no axis argument:',a3,sep='\\n')\n",
    "\n",
    "a3 = np.append(a1,a2, axis = 0)\n",
    "print('a3 with axis=0:',a3,sep='\\n')\n",
    "\n",
    "a3 = np.append(a1,a2, axis = 1)\n",
    "print('a3 with axis=1:',a3,sep='\\n')"
   ]
  }
 ],
 "metadata": {
  "kernelspec": {
   "display_name": "Python 3",
   "language": "python",
   "name": "python3"
  },
  "language_info": {
   "codemirror_mode": {
    "name": "ipython",
    "version": 3
   },
   "file_extension": ".py",
   "mimetype": "text/x-python",
   "name": "python",
   "nbconvert_exporter": "python",
   "pygments_lexer": "ipython3",
   "version": "3.7.6"
  }
 },
 "nbformat": 4,
 "nbformat_minor": 4
}
