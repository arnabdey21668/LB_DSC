{
 "cells": [
  {
   "cell_type": "markdown",
   "metadata": {
    "colab_type": "text",
    "id": "wNRNTbrsc53d"
   },
   "source": [
    "# If - elif - else statement"
   ]
  },
  {
   "cell_type": "code",
   "execution_count": 53,
   "metadata": {
    "colab": {},
    "colab_type": "code",
    "id": "MiPfTnBycxNa"
   },
   "outputs": [
    {
     "name": "stdout",
     "output_type": "stream",
     "text": [
      "Enter integer number between 0 and 9: 4\n",
      "Four\n"
     ]
    }
   ],
   "source": [
    "#W. A P. which takes one number from 0 to 9 from the user and prints it in the word. And if the word is not from 0 to 9 then\n",
    "#it should print that number is outside of the range and program should exit.\n",
    "# For exapmple:- \n",
    "# input = 1\n",
    "# output = one\n",
    "num1=int(input(\"Enter integer number between 0 and 9: \"))\n",
    "if num1 == 0:\n",
    "    print('Zero')\n",
    "elif num1 == 1:\n",
    "    print('One')\n",
    "elif num1 == 2:\n",
    "    print('Two')\n",
    "elif num1 == 3:\n",
    "    print('Three')\n",
    "elif num1 == 4:\n",
    "    print('Four')\n",
    "elif num1 == 5:\n",
    "    print('Five')\n",
    "elif num1 == 6:\n",
    "    print('Six')\n",
    "elif num1 == 7:\n",
    "    print('Seven')\n",
    "elif num1 == 8:\n",
    "    print('Eight')\n",
    "elif num1 == 9:\n",
    "    print('Nine')\n",
    "else:\n",
    "    print(f'Number: {num1} outside of range 0-9')"
   ]
  },
  {
   "cell_type": "code",
   "execution_count": 3,
   "metadata": {
    "colab": {},
    "colab_type": "code",
    "id": "vEMNOv9zdA39"
   },
   "outputs": [
    {
     "name": "stdout",
     "output_type": "stream",
     "text": [
      "Enter the first number: 10\n",
      "Enter the second number: 20\n",
      "Enter the type of operation:\n",
      "To add enter 1\n",
      "To subtract enter 2\n",
      "To multiply enter 3\n",
      "To divide enter 4\n",
      "To divide and find quotient enter 5\n",
      "To divide and find remainder enter 6\n",
      "To divide and find num1 to the power of num2 enter 7\n",
      "To Come out of the program enter 8\n",
      "2\n",
      "Result is -10\n"
     ]
    }
   ],
   "source": [
    "#W. A P. to implement calculator but the operation to be done and two numbers will be taken as input from user:-\n",
    "#Operation console should show below:-\n",
    "#     Please select any one operation from below:-\n",
    "#         * To add enter 1\n",
    "#         * To subtract enter 2\n",
    "#         * To multiply enter 3\n",
    "#         * To divide enter 4\n",
    "#         * To divide and find quotient enter 5\n",
    "#         * To divide and find remainder enter 6\n",
    "#         * To divide and find num1 to the power of num2 enter 7\n",
    "#         * To Come out of the program enter 8\n",
    "\n",
    "\n",
    "a=eval(input(\"Enter the first number: \"))\n",
    "b=eval(input(\"Enter the second number: \"))\n",
    "choice=int(input(\"Enter the type of operation:\\nTo add enter 1\\nTo subtract enter 2\\nTo multiply enter 3\\nTo divide enter 4\\nTo divide and find quotient enter 5\\nTo divide and find remainder enter 6\\nTo divide and find num1 to the power of num2 enter 7\\nTo Come out of the program enter 8\\n\"))\n",
    "if choice == 1:\n",
    "    print(f\"Result is {a+b}\")\n",
    "elif choice == 2:\n",
    "    print(f\"Result is {a-b}\")\n",
    "elif choice == 3:\n",
    "    print(f\"Result is {a*b}\")\n",
    "elif choice == 4:\n",
    "    print(f\"Result is {a/b}\")\n",
    "elif choice == 5:\n",
    "    print(f\"Result is {a//b}\")\n",
    "elif choice == 6:\n",
    "    print(f\"Result is {a%b}\")\n",
    "elif choice == 7:\n",
    "    print(f\"Result is {a**b}\")\n",
    "elif choice == 8:\n",
    "    print(\"Exiting..\")\n",
    "    exit()\n",
    "else:\n",
    "    print(\"Enter valid option for type of operation\")"
   ]
  },
  {
   "cell_type": "code",
   "execution_count": 24,
   "metadata": {
    "colab": {},
    "colab_type": "code",
    "id": "1e2gwYLqdC1s"
   },
   "outputs": [
    {
     "name": "stdout",
     "output_type": "stream",
     "text": [
      "Enter the year no: 1800\n",
      "1800 is not a leap year\n"
     ]
    }
   ],
   "source": [
    "#W A P to check whether a year entered by user is an leap year or not?\n",
    "#Check with below input:-\n",
    "    #leap year:- 2012, 1968, 2004, 1200, 1600,2400\n",
    "    #Non-lear year:- 1971, 2006, 1700,1800,1900\n",
    "    \n",
    "year=int(input(\"Enter the year no: \"))\n",
    "if (year % 4) == 0:\n",
    "    \n",
    "    if (year % 100) == 0:\n",
    "        if (year % 400) == 0:\n",
    "            print(f\"{year} is a leap year\")\n",
    "        else:\n",
    "            print(f\"{year} is not a leap year\")\n",
    "    else:\n",
    "        print(f\"{year} is a leap year\")\n",
    "else:\n",
    "    print(f\"{year} is not a leap year\")"
   ]
  },
  {
   "cell_type": "code",
   "execution_count": 5,
   "metadata": {
    "colab": {},
    "colab_type": "code",
    "id": "_tpXv1EtdEre"
   },
   "outputs": [
    {
     "name": "stdout",
     "output_type": "stream",
     "text": [
      "Enter number: 3\n",
      "3 is odd\n"
     ]
    }
   ],
   "source": [
    "#W A P which takes one number from the user and checks whether it is an even or odd number?, If it even then prints number is \n",
    "#even number else prints that number is odd number.\n",
    "\n",
    "num1=eval(input('Enter number: '))\n",
    "if num1 % 2 == 0:\n",
    "    print(f'{num1} is even')\n",
    "else:\n",
    "    print(f'{num1} is odd')"
   ]
  },
  {
   "cell_type": "code",
   "execution_count": 19,
   "metadata": {
    "colab": {},
    "colab_type": "code",
    "id": "Q1HumymCdG6i"
   },
   "outputs": [
    {
     "name": "stdout",
     "output_type": "stream",
     "text": [
      "Enter num1: 10\n",
      "Enter num2: 20\n",
      "num1: 10 is smaller then num2: 20\n",
      "num1: 10 is smaller then num2: 20\n"
     ]
    }
   ],
   "source": [
    "#W A P which takes two numbers from the user and prints below output:-\n",
    "#     1. num1 is greater than num2 if num1 is greater than num2\n",
    "#     2. num1 is smaller than num2 if num1 is smaller than num2\n",
    "#     3. num1 is equal to num2 if num1 and num2 are equal\n",
    "\n",
    "#Note:- 1. Do this problem using if - else \n",
    "#       2. Do this using ternary operator\n",
    "\n",
    "#Using if-else\n",
    "num1=eval(input('Enter num1: '))\n",
    "num2=eval(input('Enter num2: '))\n",
    "if(num1!=num2):\n",
    "    if num1 > num2:\n",
    "        print(f'num1: {num1} is greater then num2: {num2}')\n",
    "    else:\n",
    "        print(f'num1: {num1} is smaller then num2: {num2}')\n",
    "else:\n",
    "    print(f'num1: {num1} and num2: {num2} are equal')\n",
    "\n",
    "#Using ternary\n",
    "print(f'num1: {num1} is greater then num2: {num2}') if num1 > num2 else print(f'num1: {num1} is smaller then num2: {num2}') if num1 != num2 else print(f'num1: {num1} and num2: {num2} are equal')"
   ]
  },
  {
   "cell_type": "code",
   "execution_count": 38,
   "metadata": {
    "colab": {},
    "colab_type": "code",
    "id": "LR6TVB-DdOPf"
   },
   "outputs": [
    {
     "name": "stdout",
     "output_type": "stream",
     "text": [
      "Enter num1: 20\n",
      "Enter num2: 10\n",
      "Enter num3: 30\n",
      "num3: 30 is greater than num1: 20 and num2: 10\n",
      "num3: 30 is greater than num1: 20 and num2: 10\n"
     ]
    }
   ],
   "source": [
    "#W A P which takes three numbers from the user and prints below output:-\n",
    "#     1. num1 is greater than num2 and num3 if num1 is greater than num2 and num3\n",
    "#     2. num2 is greater than num1 and num3 if num2 is greater than num1 and num3\n",
    "#     3. num3 is greater than num1 and num2 if num3 is greater than num1 and num2\n",
    "\n",
    "#Note:- 1. Do this problem using if - elif - else \n",
    "#       2. Do this using ternary operator\n",
    "\n",
    "#Using if-else\n",
    "num1=eval(input('Enter num1: '))\n",
    "num2=eval(input('Enter num2: '))\n",
    "num3=eval(input('Enter num3: '))\n",
    "\n",
    "if num1 > num2:\n",
    "    if num1 > num3:\n",
    "        print(f'num1: {num1} is greater than num2: {num2} and num3: {num3}')\n",
    "    else:\n",
    "        print(f'num3: {num3} is greater than num1: {num1} and num2: {num2}')\n",
    "else:\n",
    "    if num2 > num3:\n",
    "        print(f'num2: {num2} is greater than num1: {num1} and num3: {num3}')\n",
    "    else:\n",
    "        print(f'num3: {num3} is greater than num1: {num1} and num2: {num2}')\n",
    "        \n",
    "#Using ternary\n",
    "print(f'num1: {num1} is greater than num2: {num2} and num3: {num3}') if num1 > num2 and num1 > num3 else print(f'num2: {num2} is greater than num1: {num1} and num3: {num3}') if num2 > num1 and num2 > num3 else print(f'num3: {num3} is greater than num1: {num1} and num2: {num2}')\n"
   ]
  },
  {
   "cell_type": "markdown",
   "metadata": {
    "colab_type": "text",
    "id": "IoOLQMUGdSox"
   },
   "source": [
    "# Loops - for loop, while loop"
   ]
  },
  {
   "cell_type": "code",
   "execution_count": 3,
   "metadata": {
    "colab": {},
    "colab_type": "code",
    "id": "9K23Uld8dQfA"
   },
   "outputs": [
    {
     "name": "stdout",
     "output_type": "stream",
     "text": [
      "55\n"
     ]
    }
   ],
   "source": [
    "#Write a Python program to find the length of the my_str using loop:-\n",
    "\n",
    "#Input:- 'Write a Python program to find the length of the my_str'\n",
    "#Output:- 55\n",
    "inp_str='Write a Python program to find the length of the my_str'\n",
    "length=0\n",
    "for letter in inp_str:\n",
    "    length+=1\n",
    "print(length)"
   ]
  },
  {
   "cell_type": "code",
   "execution_count": 4,
   "metadata": {
    "colab": {},
    "colab_type": "code",
    "id": "bp6AcqTsdYxy"
   },
   "outputs": [
    {
     "name": "stdout",
     "output_type": "stream",
     "text": [
      "9\n"
     ]
    }
   ],
   "source": [
    "#Write a Python program to find the total number of times letter 'p' is appeared in the below string using loop:-\n",
    "    \n",
    "#Input:- 'peter piper picked a peck of pickled peppers.\\n'\n",
    "#Output:- 9\n",
    "\n",
    "inp_str='peter piper picked a peck of pickled peppers.'\n",
    "count=0\n",
    "for letter in inp_str:\n",
    "    if letter == 'p':\n",
    "        count+=1\n",
    "print(count)"
   ]
  },
  {
   "cell_type": "code",
   "execution_count": 3,
   "metadata": {
    "colab": {},
    "colab_type": "code",
    "id": "xvxSBhTJdav1"
   },
   "outputs": [
    {
     "name": "stdout",
     "output_type": "stream",
     "text": [
      "0\n",
      "6\n",
      "8\n",
      "12\n",
      "21\n",
      "29\n",
      "37\n",
      "39\n",
      "40\n"
     ]
    }
   ],
   "source": [
    "#Write a Python Program, to print all the indexes of all occurences of letter 'p' appeared in the string using loop:-\n",
    "    \n",
    "#Input:- 'peter piper picked a peck of pickled peppers.'\n",
    "#Output:- \n",
    "# 0\n",
    "# 6\n",
    "# 8\n",
    "# 12\n",
    "# 21\n",
    "# 29\n",
    "# 37\n",
    "# 39\n",
    "# 40\n",
    "inp_str='peter piper picked a peck of pickled peppers.'\n",
    "for index in range(len(inp_str)):\n",
    "    if inp_str[index] == 'p':\n",
    "        print(index)"
   ]
  },
  {
   "cell_type": "code",
   "execution_count": 17,
   "metadata": {
    "colab": {},
    "colab_type": "code",
    "id": "79L_feMadbmw"
   },
   "outputs": [
    {
     "name": "stdout",
     "output_type": "stream",
     "text": [
      "['peter', 'piper', 'picked', 'a', 'peck', 'of', 'pickled', 'peppers']\n"
     ]
    }
   ],
   "source": [
    "#Write a python program to find below output using loop:-\n",
    "\n",
    "#Input:- 'peter piper picked a peck of pickled peppers.'\n",
    "#Output:- ['peter', 'piper', 'picked', 'a', 'peck', 'of', 'pickled', 'peppers']\n",
    "inp_str='peter piper picked a peck of pickled peppers.'\n",
    "word=''\n",
    "out_lst=[]\n",
    "for letter in inp_str:\n",
    "    if letter == ' ' or letter == '.':\n",
    "        out_lst.append(word)\n",
    "        word=''\n",
    "    else:\n",
    "        word += letter\n",
    "print(out_lst)"
   ]
  },
  {
   "cell_type": "code",
   "execution_count": 5,
   "metadata": {
    "colab": {},
    "colab_type": "code",
    "id": "vzs5AJ53deVS"
   },
   "outputs": [
    {
     "name": "stdout",
     "output_type": "stream",
     "text": [
      "peppers pickled of peck a picked piper peter\n"
     ]
    }
   ],
   "source": [
    "#Write a python program to find below output using loop:-\n",
    "\n",
    "#Input:- 'peter piper picked a peck of pickled peppers.'\n",
    "#Output:- 'peppers pickled of peck a picked piper peter'\n",
    "inp_str='peter piper picked a peck of pickled peppers.'\n",
    "out_lst=[]\n",
    "for i in range(1,len(inp_str.split())+1):\n",
    "    if inp_str.split()[-i].endswith('.'):\n",
    "        out_lst.append(inp_str.split()[-i].rstrip('.'))\n",
    "    else:\n",
    "        out_lst.append(inp_str.split()[-i])\n",
    "print(' '.join(out_lst))\n"
   ]
  },
  {
   "cell_type": "code",
   "execution_count": 6,
   "metadata": {
    "colab": {},
    "colab_type": "code",
    "id": "i-HP7DrCdhwS"
   },
   "outputs": [
    {
     "name": "stdout",
     "output_type": "stream",
     "text": [
      "sreppep delkcip fo kcep a dekcip repip retep\n"
     ]
    }
   ],
   "source": [
    "#Write a python program to find below output using loop:-\n",
    "\n",
    "#Input:- 'peter piper picked a peck of pickled peppers.'\n",
    "#Output:- '.sreppep delkcip fo kcep a dekcip repip retep'\n",
    "inp_str='peter piper picked a peck of pickled peppers.'\n",
    "out_lst=[]\n",
    "for i in range(1,len(inp_str.split())+1):\n",
    "    if inp_str.split()[-i].endswith('.'):\n",
    "        out_lst.append(inp_str.split()[-i][::-1].lstrip('.'))\n",
    "    else:\n",
    "        out_lst.append(inp_str.split()[-i][::-1])\n",
    "print(' '.join(out_lst))\n"
   ]
  },
  {
   "cell_type": "code",
   "execution_count": 7,
   "metadata": {
    "colab": {},
    "colab_type": "code",
    "id": "3rt6p0ytdkq0"
   },
   "outputs": [
    {
     "name": "stdout",
     "output_type": "stream",
     "text": [
      "retep repip dekcip a kcep fo delkcip sreppep\n"
     ]
    }
   ],
   "source": [
    "#Write a python program to find below output using loop:-\n",
    "\n",
    "#Input:- 'peter piper picked a peck of pickled peppers.'\n",
    "#Output:- 'retep repip dekcip a kcep fo delkcip sreppep'\n",
    "inp_str='peter piper picked a peck of pickled peppers.'\n",
    "out_lst=[]\n",
    "for i in range(len(inp_str.split())):\n",
    "    if inp_str.split()[i].endswith('.'):\n",
    "        out_lst.append(inp_str.split()[i][::-1].lstrip('.'))\n",
    "    else:\n",
    "        out_lst.append(inp_str.split()[i][::-1])\n",
    "print(' '.join(out_lst))"
   ]
  },
  {
   "cell_type": "code",
   "execution_count": 8,
   "metadata": {
    "colab": {},
    "colab_type": "code",
    "id": "HdlAWgT2dnKO"
   },
   "outputs": [
    {
     "name": "stdout",
     "output_type": "stream",
     "text": [
      "Peter Piper Picked A Peck Of Pickled Peppers\n"
     ]
    }
   ],
   "source": [
    "#Write a python program to find below output using loop:-\n",
    "\n",
    "#Input:- 'peter piper picked a peck of pickled peppers.'\n",
    "#Output:- 'Peter Piper Picked A Peck Of Pickled Peppers'\n",
    "inp_str='peter piper picked a peck of pickled peppers.'\n",
    "out_lst=[]\n",
    "for i in range(len(inp_str.split())):\n",
    "    if inp_str.split()[i].endswith('.'):\n",
    "        out_lst.append(inp_str.split()[i].title().rstrip('.'))\n",
    "    else:\n",
    "        out_lst.append(inp_str.split()[i].title())\n",
    "print(' '.join(out_lst))"
   ]
  },
  {
   "cell_type": "code",
   "execution_count": 9,
   "metadata": {
    "colab": {},
    "colab_type": "code",
    "id": "OthUuacodrNl"
   },
   "outputs": [
    {
     "name": "stdout",
     "output_type": "stream",
     "text": [
      "Peter piper picked a peck of pickled peppers\n"
     ]
    }
   ],
   "source": [
    "#Write a python program to find below output using loop:-\n",
    "\n",
    "#Input:- 'Peter Piper Picked A Peck Of Pickled Peppers.'\n",
    "#Output:- 'Peter piper picked a peck of pickled peppers'\n",
    "inp_str='Peter Piper Picked A Peck Of Pickled Peppers.'\n",
    "out_lst=[]\n",
    "for i in range(len(inp_str.split())):\n",
    "    if i!=0:\n",
    "        if inp_str.split()[i].endswith('.'):\n",
    "            out_lst.append(inp_str.split()[i].lower().rstrip('.'))\n",
    "        else:\n",
    "            out_lst.append(inp_str.split()[i].lower())\n",
    "    else:\n",
    "        out_lst.append(inp_str.split()[i])\n",
    "print(' '.join(out_lst))"
   ]
  },
  {
   "cell_type": "code",
   "execution_count": 29,
   "metadata": {
    "colab": {},
    "colab_type": "code",
    "id": "scmDJE-ldsI9"
   },
   "outputs": [
    {
     "name": "stdout",
     "output_type": "stream",
     "text": [
      "29\n"
     ]
    }
   ],
   "source": [
    "#Write a python program to implement index method using loop. If sub_str is found in my_str then it will print the index\n",
    "# of first occurrence of first character of matching string in my_str:-\n",
    "\n",
    "#Input:- my_str = 'Peter Piper Picked A Peck Of Pickled Peppers.', sub_str = 'Pickl'\n",
    "#Output:- 29\n",
    "my_str='Peter Piper Picked A Peck Of Pickled Peppers.'\n",
    "sub_str='Pickl'\n",
    "out_str=''\n",
    "length=0\n",
    "flag=0\n",
    "for letter in my_str:\n",
    "    length+=1\n",
    "    out_str += letter\n",
    "    if sub_str in out_str:\n",
    "        flag=1\n",
    "        print(length-len(sub_str))\n",
    "        break\n",
    "if flag == 1:\n",
    "    pass\n",
    "else:\n",
    "    raise ValueError(\"substring not found\")"
   ]
  },
  {
   "cell_type": "code",
   "execution_count": 30,
   "metadata": {
    "colab": {},
    "colab_type": "code",
    "id": "Kq_fwdb_dvYE"
   },
   "outputs": [
    {
     "name": "stdout",
     "output_type": "stream",
     "text": [
      "Peter Piper Picked A Pack Of Pickled Peppers.\n"
     ]
    }
   ],
   "source": [
    "#Write a python program to implement replace method using loop. If sub_str is found in my_str then it will replace the first \n",
    "#occurrence of sub_str with new_str else it will will print sub_str not found:-\n",
    "\n",
    "#Input:- my_str = 'Peter Piper Picked A Peck Of Pickled Peppers.', sub_str = 'Peck', new_str = 'Pack'\n",
    "#Output:- 'Peter Piper Picked A Pack Of Pickled Peppers.'\n",
    "my_str='Peter Piper Picked A Peck Of Pickled Peppers.'\n",
    "sub_str='Peck'\n",
    "new_str='Pack'\n",
    "out_str=''\n",
    "word=''\n",
    "flag=0\n",
    "for letter in my_str:\n",
    "    if letter == ' ':\n",
    "        out_str = out_str + word + ' '\n",
    "        word=''\n",
    "    elif letter == '.':\n",
    "        out_str = out_str + word + '.'\n",
    "        word=''\n",
    "    else:\n",
    "        word += letter\n",
    "        if word == sub_str:\n",
    "            flag=1\n",
    "            word = new_str\n",
    "if flag == 1:\n",
    "    print(out_str)\n",
    "else:\n",
    "    print(f'{sub_str} not found')"
   ]
  },
  {
   "cell_type": "code",
   "execution_count": 74,
   "metadata": {
    "colab": {},
    "colab_type": "code",
    "id": "4Qes5D0cdyd1"
   },
   "outputs": [
    {
     "name": "stdout",
     "output_type": "stream",
     "text": [
      "*********************Peck********************\n"
     ]
    }
   ],
   "source": [
    "#Write a python program to find below output (implements rjust and ljust) using loop:-\n",
    "\n",
    "#Input:- 'Peter Piper Picked A Peck Of Pickled Peppers.', sub_str = 'Peck', \n",
    "#Output:- '*********************Peck********************'\n",
    "inp_str='Peter Piper Picked A Peck Of Pickled Peppers.'\n",
    "sub_str='Peck'\n",
    "out_str=''\n",
    "actual_str=''\n",
    "length=0\n",
    "flag=0\n",
    "for letter in inp_str:\n",
    "    if sub_str in out_str and flag == 0:\n",
    "        actual_str='*'*(length-len(sub_str))\n",
    "        actual_str+=sub_str\n",
    "        flag=1\n",
    "    if flag == 1:\n",
    "        actual_str+='*'\n",
    "    out_str+=letter\n",
    "    length+=1\n",
    "print(actual_str)"
   ]
  },
  {
   "cell_type": "code",
   "execution_count": 110,
   "metadata": {
    "colab": {},
    "colab_type": "code",
    "id": "DsOrb07Od0lR"
   },
   "outputs": [
    {
     "name": "stdout",
     "output_type": "stream",
     "text": [
      "['This ', 'is', ' Python class']\n"
     ]
    }
   ],
   "source": [
    "#Write a python program to find below output using loop:-\n",
    "\n",
    "#Input:- 'This is Python class', sep = 'is', \n",
    "#Output:- ['This', 'is', 'Python class']\n",
    "inp_str='This is Python class'\n",
    "sep='is'\n",
    "out_str=''\n",
    "l_str=''\n",
    "r_str=''\n",
    "length=0\n",
    "out_lst=[]\n",
    "for letter in inp_str:\n",
    "    length+=1\n",
    "    out_str += letter\n",
    "    if sep in out_str:\n",
    "        l_str=inp_str[:length-len(sep):]\n",
    "        r_str=inp_str[length::]\n",
    "        out_str=''\n",
    "out_lst.append(l_str)\n",
    "out_lst.append(sep)\n",
    "out_lst.append(r_str)\n",
    "print(out_lst)"
   ]
  },
  {
   "cell_type": "code",
   "execution_count": 16,
   "metadata": {
    "colab": {},
    "colab_type": "code",
    "id": "jRnBVufmd2Ay"
   },
   "outputs": [
    {
     "name": "stdout",
     "output_type": "stream",
     "text": [
      "R{vjqp\n",
      "Rwvfql\n",
      "R{vfml\n"
     ]
    }
   ],
   "source": [
    "#Write a python program which takes one input string from user and encode it in below format:-\n",
    "#     1. #Input:- 'Python'\n",
    "       #Output:- 'R{vjqp'\n",
    "\n",
    "inp_string='Python'\n",
    "out_string=''\n",
    "for i in range(len(inp_string)):\n",
    "    out_string += chr(ord(inp_string[i])+2)\n",
    "print(out_string)\n",
    "\n",
    "#     2. #Input:- 'Python'\n",
    "       #Output:- 'Rwvfql'\n",
    "        \n",
    "inp_string='Python'\n",
    "out_string=''\n",
    "for i in range(len(inp_string)):\n",
    "    if i%2 == 0:\n",
    "        out_string += chr(ord(inp_string[i])+2)\n",
    "    else:\n",
    "        out_string += chr(ord(inp_string[i])-2)\n",
    "print(out_string)      \n",
    "        \n",
    "#     3. #Input:- 'Python'\n",
    "       #Output:- 'R{vfml'\n",
    "             \n",
    "inp_string='Python'\n",
    "out_string=''\n",
    "for i in range(len(inp_string)):\n",
    "    if(i in (0,1,2)):\n",
    "        out_string += chr(ord(inp_string[i])+2)\n",
    "    else:\n",
    "        out_string += chr(ord(inp_string[i])-2)\n",
    "print(out_string)\n",
    "        "
   ]
  }
 ],
 "metadata": {
  "colab": {
   "name": "Conditional_and_loop_assignment.ipynb",
   "provenance": []
  },
  "kernelspec": {
   "display_name": "Python 3",
   "language": "python",
   "name": "python3"
  },
  "language_info": {
   "codemirror_mode": {
    "name": "ipython",
    "version": 3
   },
   "file_extension": ".py",
   "mimetype": "text/x-python",
   "name": "python",
   "nbconvert_exporter": "python",
   "pygments_lexer": "ipython3",
   "version": "3.7.6"
  }
 },
 "nbformat": 4,
 "nbformat_minor": 1
}
